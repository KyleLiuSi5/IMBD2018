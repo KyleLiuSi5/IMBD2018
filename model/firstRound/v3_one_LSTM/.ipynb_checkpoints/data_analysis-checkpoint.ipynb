{
 "cells": [
  {
   "cell_type": "markdown",
   "metadata": {},
   "source": [
    "## Loading data"
   ]
  },
  {
   "cell_type": "code",
   "execution_count": 1,
   "metadata": {},
   "outputs": [],
   "source": [
    "# Loading the IPython extention autoreload.\n",
    "%load_ext autoreload"
   ]
  },
  {
   "cell_type": "code",
   "execution_count": 2,
   "metadata": {},
   "outputs": [],
   "source": [
    "# Reloading edited module without restarting the kernel.\n",
    "# Referring to https://support.enthought.com/hc/en-us/articles/204469240-Jupyter-IPython-After-editing-a-module-changes-are-not-effective-without-kernel-restart\n",
    "%autoreload\n",
    "\n",
    "from utils import *\n",
    "\n",
    "path_to_train_and_dev = '../../data/first-round/train_and_dev_set'\n",
    "path_to_test = '../../data/first-round/test_set'\n",
    "ratio_of_training_data = 0.8\n",
    "train_set_x, train_set_y, dev_set_x, dev_set_y, test_set_x = load_data(path_to_train_and_dev, ratio_of_training_data, path_to_test)"
   ]
  },
  {
   "cell_type": "code",
   "execution_count": 3,
   "metadata": {},
   "outputs": [
    {
     "name": "stdout",
     "output_type": "stream",
     "text": [
      "train x: 32 train y 32 dev x: 8 dev y: 8 test x: 10\n"
     ]
    }
   ],
   "source": [
    "print('train x:', len(train_set_x), 'train y', len(train_set_y), 'dev x:', len(\n",
    "    dev_set_x), 'dev y:', len(dev_set_y), 'test x:', len(test_set_x))"
   ]
  },
  {
   "cell_type": "markdown",
   "metadata": {},
   "source": [
    "## Loading and compiling model"
   ]
  },
  {
   "cell_type": "code",
   "execution_count": 4,
   "metadata": {},
   "outputs": [
    {
     "name": "stderr",
     "output_type": "stream",
     "text": [
      "Using TensorFlow backend.\n"
     ]
    },
    {
     "name": "stdout",
     "output_type": "stream",
     "text": [
      "_________________________________________________________________\n",
      "Layer (type)                 Output Shape              Param #   \n",
      "=================================================================\n",
      "input_1 (InputLayer)         (None, 7500, 4)           0         \n",
      "_________________________________________________________________\n",
      "batch_normalization_1 (Batch (None, 7500, 4)           16        \n",
      "_________________________________________________________________\n",
      "bidirectional_1 (Bidirection (None, 256)               136192    \n",
      "_________________________________________________________________\n",
      "batch_normalization_2 (Batch (None, 256)               1024      \n",
      "_________________________________________________________________\n",
      "dense_1 (Dense)              (None, 1)                 257       \n",
      "=================================================================\n",
      "Total params: 137,489\n",
      "Trainable params: 136,969\n",
      "Non-trainable params: 520\n",
      "_________________________________________________________________\n"
     ]
    }
   ],
   "source": [
    "%autoreload\n",
    "\n",
    "from model import *\n",
    "\n",
    "# Creating model.\n",
    "model = create_model(input_shape=(train_set_x.shape[1:]), summary=True)\n",
    "\n",
    "# Instantiating the optimizer.\n",
    "opt = Adam()\n",
    "\n",
    "# Determining the loss and metric, and compiling the model.\n",
    "model.compile(optimizer=opt, loss='mean_squared_error')"
   ]
  },
  {
   "cell_type": "code",
   "execution_count": 5,
   "metadata": {},
   "outputs": [],
   "source": [
    "#Loading weights, if needed.\n",
    "#model.load_weights(\"./saved_weights/model-019epochs-0.028val_loss.h5\")"
   ]
  },
  {
   "cell_type": "markdown",
   "metadata": {},
   "source": [
    "## Fitting"
   ]
  },
  {
   "cell_type": "code",
   "execution_count": 6,
   "metadata": {},
   "outputs": [],
   "source": [
    "# checkpoint\n",
    "from keras.callbacks import ModelCheckpoint\n",
    "filepath=\"./saved_weights/weights-{epoch:003d}epochs-{loss:.3f}loss-{val_loss:.3f}val_loss.h5\"\n",
    "checkpoint = ModelCheckpoint(filepath, save_weights_only=True)\n",
    "callbacks_list = [checkpoint]"
   ]
  },
  {
   "cell_type": "code",
   "execution_count": 7,
   "metadata": {
    "scrolled": true
   },
   "outputs": [
    {
     "name": "stdout",
     "output_type": "stream",
     "text": [
      "Train on 32 samples, validate on 8 samples\n",
      "Epoch 1/60\n",
      "32/32 [==============================] - 27s 834ms/step - loss: 0.4005 - val_loss: 0.3005\n",
      "Epoch 2/60\n",
      "32/32 [==============================] - 24s 742ms/step - loss: 0.3826 - val_loss: 0.2915\n",
      "Epoch 3/60\n",
      "32/32 [==============================] - 24s 737ms/step - loss: 0.3630 - val_loss: 0.2871\n",
      "Epoch 4/60\n",
      "32/32 [==============================] - 24s 743ms/step - loss: 0.3420 - val_loss: 0.2904\n",
      "Epoch 5/60\n",
      "32/32 [==============================] - 24s 739ms/step - loss: 0.3204 - val_loss: 0.3021\n",
      "Epoch 6/60\n",
      "32/32 [==============================] - 25s 788ms/step - loss: 0.2986 - val_loss: 0.3247\n",
      "Epoch 7/60\n",
      "32/32 [==============================] - 24s 742ms/step - loss: 0.2770 - val_loss: 0.3253\n",
      "Epoch 8/60\n",
      "32/32 [==============================] - 24s 736ms/step - loss: 0.2557 - val_loss: 0.3253\n",
      "Epoch 9/60\n",
      "32/32 [==============================] - 24s 745ms/step - loss: 0.2347 - val_loss: 0.3253\n",
      "Epoch 10/60\n",
      "32/32 [==============================] - 24s 741ms/step - loss: 0.2144 - val_loss: 0.3253\n",
      "Epoch 11/60\n",
      "32/32 [==============================] - 24s 738ms/step - loss: 0.1947 - val_loss: 0.3253\n",
      "Epoch 12/60\n",
      "32/32 [==============================] - 24s 739ms/step - loss: 0.1758 - val_loss: 0.3253\n",
      "Epoch 13/60\n",
      "32/32 [==============================] - 24s 736ms/step - loss: 0.1578 - val_loss: 0.3253\n",
      "Epoch 14/60\n",
      "32/32 [==============================] - 24s 737ms/step - loss: 0.1407 - val_loss: 0.3253\n",
      "Epoch 15/60\n",
      "32/32 [==============================] - 24s 742ms/step - loss: 0.1246 - val_loss: 0.3253\n",
      "Epoch 16/60\n",
      "32/32 [==============================] - 24s 751ms/step - loss: 0.1096 - val_loss: 0.3253\n",
      "Epoch 17/60\n",
      "32/32 [==============================] - 24s 740ms/step - loss: 0.0955 - val_loss: 0.3253\n",
      "Epoch 18/60\n",
      "32/32 [==============================] - 24s 738ms/step - loss: 0.0845 - val_loss: 0.3253\n",
      "Epoch 19/60\n",
      "32/32 [==============================] - 25s 796ms/step - loss: 0.0733 - val_loss: 11.7515\n",
      "Epoch 20/60\n",
      "32/32 [==============================] - 24s 739ms/step - loss: 0.0631 - val_loss: 90.7851\n",
      "Epoch 21/60\n",
      "32/32 [==============================] - 24s 751ms/step - loss: 0.0555 - val_loss: 761.3738\n",
      "Epoch 22/60\n",
      "32/32 [==============================] - 24s 756ms/step - loss: 0.0486 - val_loss: 1697.3999\n",
      "Epoch 23/60\n",
      "32/32 [==============================] - 24s 753ms/step - loss: 0.0445 - val_loss: 17.2271\n",
      "Epoch 24/60\n",
      "32/32 [==============================] - 24s 748ms/step - loss: 0.0410 - val_loss: 1.0059\n",
      "Epoch 25/60\n",
      "32/32 [==============================] - 24s 744ms/step - loss: 0.0391 - val_loss: 0.1535\n",
      "Epoch 26/60\n",
      "32/32 [==============================] - 24s 744ms/step - loss: 0.0379 - val_loss: 0.3253\n",
      "Epoch 27/60\n",
      "32/32 [==============================] - 24s 744ms/step - loss: 0.0377 - val_loss: 0.3253\n",
      "Epoch 28/60\n",
      "32/32 [==============================] - 24s 747ms/step - loss: 0.0382 - val_loss: 0.3253\n",
      "Epoch 29/60\n",
      "32/32 [==============================] - 24s 746ms/step - loss: 0.0392 - val_loss: 0.3253\n",
      "Epoch 30/60\n",
      "32/32 [==============================] - 24s 745ms/step - loss: 0.0406 - val_loss: 0.3253\n",
      "Epoch 31/60\n",
      "32/32 [==============================] - 24s 743ms/step - loss: 0.0420 - val_loss: 0.3253\n",
      "Epoch 32/60\n",
      "32/32 [==============================] - 24s 746ms/step - loss: 0.0435 - val_loss: 0.3253\n",
      "Epoch 33/60\n",
      "32/32 [==============================] - 26s 801ms/step - loss: 0.0447 - val_loss: 0.3253\n",
      "Epoch 34/60\n",
      "32/32 [==============================] - 24s 743ms/step - loss: 0.0456 - val_loss: 0.3253\n",
      "Epoch 35/60\n",
      "32/32 [==============================] - 24s 749ms/step - loss: 0.0461 - val_loss: 0.3253\n",
      "Epoch 36/60\n",
      "32/32 [==============================] - 24s 743ms/step - loss: 0.0463 - val_loss: 0.3253\n",
      "Epoch 37/60\n",
      "32/32 [==============================] - 25s 794ms/step - loss: 0.0460 - val_loss: 0.3253\n",
      "Epoch 38/60\n",
      "32/32 [==============================] - 24s 742ms/step - loss: 0.0454 - val_loss: 0.3253\n",
      "Epoch 39/60\n",
      "32/32 [==============================] - 24s 742ms/step - loss: 0.0441 - val_loss: 0.3253\n",
      "Epoch 40/60\n",
      "32/32 [==============================] - 24s 748ms/step - loss: 0.3010 - val_loss: 0.3253\n",
      "Epoch 41/60\n",
      "32/32 [==============================] - 24s 746ms/step - loss: 0.0444 - val_loss: 499.1830\n",
      "Epoch 42/60\n",
      "32/32 [==============================] - 24s 746ms/step - loss: 0.0749 - val_loss: 0.3253\n",
      "Epoch 43/60\n",
      "32/32 [==============================] - 24s 743ms/step - loss: 0.0985 - val_loss: 0.3253\n",
      "Epoch 44/60\n",
      "32/32 [==============================] - 24s 741ms/step - loss: 0.1011 - val_loss: 0.3253\n",
      "Epoch 45/60\n",
      "32/32 [==============================] - 24s 754ms/step - loss: 0.0401 - val_loss: 0.3253\n",
      "Epoch 46/60\n",
      "32/32 [==============================] - 24s 744ms/step - loss: 0.0397 - val_loss: 0.3253\n",
      "Epoch 47/60\n",
      "32/32 [==============================] - 24s 745ms/step - loss: 0.0394 - val_loss: 0.3253\n",
      "Epoch 48/60\n",
      "32/32 [==============================] - 24s 749ms/step - loss: 0.0392 - val_loss: 0.3253\n",
      "Epoch 49/60\n",
      "32/32 [==============================] - 24s 747ms/step - loss: 0.0392 - val_loss: 0.3253\n",
      "Epoch 50/60\n",
      "32/32 [==============================] - 24s 747ms/step - loss: 0.0392 - val_loss: 0.3253\n",
      "Epoch 51/60\n",
      "32/32 [==============================] - 24s 749ms/step - loss: 0.0393 - val_loss: 0.3253\n",
      "Epoch 52/60\n",
      "32/32 [==============================] - 26s 805ms/step - loss: 0.0395 - val_loss: 0.3253\n",
      "Epoch 53/60\n",
      "32/32 [==============================] - 24s 752ms/step - loss: 0.0396 - val_loss: 0.3253\n",
      "Epoch 54/60\n",
      "32/32 [==============================] - 24s 748ms/step - loss: 0.0398 - val_loss: 0.3253\n",
      "Epoch 55/60\n",
      "32/32 [==============================] - 24s 750ms/step - loss: 0.0400 - val_loss: 0.3253\n",
      "Epoch 56/60\n",
      "32/32 [==============================] - 24s 744ms/step - loss: 0.0401 - val_loss: 0.3253\n",
      "Epoch 57/60\n",
      "32/32 [==============================] - 24s 752ms/step - loss: 0.0402 - val_loss: 0.3253\n",
      "Epoch 58/60\n",
      "32/32 [==============================] - 24s 751ms/step - loss: 0.0403 - val_loss: 0.3253\n",
      "Epoch 59/60\n",
      "32/32 [==============================] - 24s 749ms/step - loss: 0.0403 - val_loss: 0.3253\n",
      "Epoch 60/60\n",
      "32/32 [==============================] - 24s 752ms/step - loss: 0.0402 - val_loss: 0.3253\n"
     ]
    }
   ],
   "source": [
    "History_fit = model.fit(train_set_x, train_set_y, batch_size=train_set_x.shape[0], epochs=60, callbacks=callbacks_list, validation_data=(dev_set_x, dev_set_y))\n",
    "history_fit = History_fit.history"
   ]
  },
  {
   "cell_type": "code",
   "execution_count": 8,
   "metadata": {},
   "outputs": [],
   "source": [
    "# Saving history\n",
    "import pickle\n",
    "with open('./trainHistoryDict', 'wb') as file_pi:\n",
    "    pickle.dump(history_fit, file_pi)"
   ]
  },
  {
   "cell_type": "markdown",
   "metadata": {},
   "source": [
    "## Evaluating the training and dev losses"
   ]
  },
  {
   "cell_type": "code",
   "execution_count": 9,
   "metadata": {},
   "outputs": [],
   "source": [
    "#import pickle\n",
    "#with open('./trainHistoryDict', 'rb') as file_pi:\n",
    "#    history_fit = pickle.load(file_pi)"
   ]
  },
  {
   "cell_type": "code",
   "execution_count": 10,
   "metadata": {},
   "outputs": [],
   "source": [
    "# Calculating and printing root mean square error of fitting\n",
    "rms_train = np.sqrt(history_fit['loss'])\n",
    "rms_dev = np.sqrt(history_fit['val_loss'])"
   ]
  },
  {
   "cell_type": "code",
   "execution_count": 13,
   "metadata": {},
   "outputs": [
    {
     "data": {
      "image/png": "[encoded data removed]",
      "text/plain": [
       "<Figure size 432x288 with 1 Axes>"
      ]
     },
     "metadata": {
      "needs_background": "light"
     },
     "output_type": "display_data"
    }
   ],
   "source": [
    "import matplotlib.pyplot as plt\n",
    "plt.plot(rms_train)\n",
    "plt.plot(rms_dev)\n",
    "plt.title('model loss')\n",
    "plt.ylabel('loss')\n",
    "plt.xlabel('epoch')\n",
    "plt.legend(['train', 'dev'], loc='upper left')\n",
    "plt.show()"
   ]
  },
  {
   "cell_type": "code",
   "execution_count": 12,
   "metadata": {},
   "outputs": [],
   "source": [
    "# Determining the best epoch\n",
    "#print('RMS error of fitting:', rms_error_fit)"
   ]
  }
 ],
 "metadata": {
  "kernelspec": {
   "display_name": "Python 3",
   "language": "python",
   "name": "python3"
  },
  "language_info": {
   "codemirror_mode": {
    "name": "ipython",
    "version": 3
   },
   "file_extension": ".py",
   "mimetype": "text/x-python",
   "name": "python",
   "nbconvert_exporter": "python",
   "pygments_lexer": "ipython3",
   "version": "3.6.6"
  }
 },
 "nbformat": 4,
 "nbformat_minor": 2
}
