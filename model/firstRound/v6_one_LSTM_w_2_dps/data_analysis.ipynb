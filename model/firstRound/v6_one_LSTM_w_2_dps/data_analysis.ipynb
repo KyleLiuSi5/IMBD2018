{
 "cells": [
  {
   "cell_type": "markdown",
   "metadata": {},
   "source": [
    "## Loading data"
   ]
  },
  {
   "cell_type": "code",
   "execution_count": 5,
   "metadata": {},
   "outputs": [],
   "source": [
    "# Loading the IPython extention autoreload.\n",
    "%load_ext autoreload"
   ]
  },
  {
   "cell_type": "code",
   "execution_count": 6,
   "metadata": {},
   "outputs": [],
   "source": [
    "# Reloading edited module without restarting the kernel.\n",
    "# Referring to https://support.enthought.com/hc/en-us/articles/204469240-Jupyter-IPython-After-editing-a-module-changes-are-not-effective-without-kernel-restart\n",
    "%autoreload\n",
    "\n",
    "from utils import *\n",
    "\n",
    "path_to_train_and_dev = '../../data/first-round/train_and_dev_set'\n",
    "path_to_test = '../../data/first-round/test_set'\n",
    "ratio_of_training_data = 0.8\n",
    "train_set_x, train_set_y, dev_set_x, dev_set_y, test_set_x, files_test = load_data(path_to_train_and_dev, ratio_of_training_data, path_to_test)"
   ]
  },
  {
   "cell_type": "code",
   "execution_count": 7,
   "metadata": {},
   "outputs": [
    {
     "name": "stdout",
     "output_type": "stream",
     "text": [
      "train x: 32 train y 32 dev x: 8 dev y: 8 test x: 10\n"
     ]
    }
   ],
   "source": [
    "print('train x:', len(train_set_x), 'train y', len(train_set_y), 'dev x:', len(\n",
    "    dev_set_x), 'dev y:', len(dev_set_y), 'test x:', len(test_set_x))"
   ]
  },
  {
   "cell_type": "markdown",
   "metadata": {},
   "source": [
    "## Loading and compiling model"
   ]
  },
  {
   "cell_type": "code",
   "execution_count": 19,
   "metadata": {
    "scrolled": true
   },
   "outputs": [
    {
     "name": "stdout",
     "output_type": "stream",
     "text": [
      "_________________________________________________________________\n",
      "Layer (type)                 Output Shape              Param #   \n",
      "=================================================================\n",
      "input_2 (InputLayer)         (None, 7500, 4)           0         \n",
      "_________________________________________________________________\n",
      "batch_normalization_3 (Batch (None, 7500, 4)           16        \n",
      "_________________________________________________________________\n",
      "dropout_3 (Dropout)          (None, 7500, 4)           0         \n",
      "_________________________________________________________________\n",
      "bidirectional_2 (Bidirection (None, 256)               136192    \n",
      "_________________________________________________________________\n",
      "batch_normalization_4 (Batch (None, 256)               1024      \n",
      "_________________________________________________________________\n",
      "dropout_4 (Dropout)          (None, 256)               0         \n",
      "_________________________________________________________________\n",
      "dense_2 (Dense)              (None, 1)                 257       \n",
      "=================================================================\n",
      "Total params: 137,489\n",
      "Trainable params: 136,969\n",
      "Non-trainable params: 520\n",
      "_________________________________________________________________\n"
     ]
    }
   ],
   "source": [
    "%autoreload\n",
    "\n",
    "from model import *\n",
    "\n",
    "# Creating model.\n",
    "model = create_model(input_shape=(train_set_x.shape[1:]), summary=True)\n",
    "\n",
    "# Instantiating the optimizer.\n",
    "opt = Adam()\n",
    "\n",
    "# Determining the loss and metric, and compiling the model.\n",
    "model.compile(optimizer=opt, loss='mean_squared_error')"
   ]
  },
  {
   "cell_type": "code",
   "execution_count": 9,
   "metadata": {},
   "outputs": [],
   "source": [
    "#Loading weights, if needed.\n",
    "#model.load_weights(\"./saved_weights/model-019epochs-0.028val_loss.h5\")"
   ]
  },
  {
   "cell_type": "markdown",
   "metadata": {},
   "source": [
    "## Fitting"
   ]
  },
  {
   "cell_type": "code",
   "execution_count": 10,
   "metadata": {},
   "outputs": [],
   "source": [
    "# checkpoint\n",
    "from keras.callbacks import ModelCheckpoint\n",
    "filepath=\"./saved_weights/weights-{epoch:003d}epochs-{loss:.3f}loss-{val_loss:.3f}val_loss.h5\"\n",
    "checkpoint = ModelCheckpoint(filepath, save_weights_only=True)\n",
    "callbacks_list = [checkpoint]"
   ]
  },
  {
   "cell_type": "code",
   "execution_count": 11,
   "metadata": {
    "scrolled": true
   },
   "outputs": [],
   "source": [
    "#History_fit = model.fit(train_set_x, train_set_y, batch_size=train_set_x.shape[0], epochs=50, callbacks=callbacks_list, validation_data=(dev_set_x, dev_set_y))\n",
    "#history_fit = History_fit.history"
   ]
  },
  {
   "cell_type": "code",
   "execution_count": 12,
   "metadata": {},
   "outputs": [],
   "source": [
    "# Saving history\n",
    "#import pickle\n",
    "#with open('./trainHistoryDict', 'wb') as file_pi:\n",
    "#    pickle.dump(history_fit, file_pi)"
   ]
  },
  {
   "cell_type": "markdown",
   "metadata": {},
   "source": [
    "## Evaluating the training and dev losses"
   ]
  },
  {
   "cell_type": "code",
   "execution_count": 13,
   "metadata": {},
   "outputs": [],
   "source": [
    "import pickle\n",
    "with open('./trainHistoryDict', 'rb') as file_pi:\n",
    "    history_fit = pickle.load(file_pi)"
   ]
  },
  {
   "cell_type": "code",
   "execution_count": 14,
   "metadata": {},
   "outputs": [],
   "source": [
    "# Calculating and printing root mean square error of fitting\n",
    "import numpy as np\n",
    "rms_train_w_dp_all = np.sqrt(history_fit['loss'])\n",
    "rms_dev_all = np.sqrt(history_fit['val_loss'])"
   ]
  },
  {
   "cell_type": "code",
   "execution_count": 15,
   "metadata": {},
   "outputs": [
    {
     "data": {
      "image/png": "[encoded data removed]",
      "text/plain": [
       "<Figure size 432x288 with 1 Axes>"
      ]
     },
     "metadata": {},
     "output_type": "display_data"
    }
   ],
   "source": [
    "import matplotlib.pyplot as plt\n",
    "plt.plot(rms_train_w_dp_all)\n",
    "plt.plot(rms_dev_all)\n",
    "plt.title('model loss')\n",
    "plt.ylabel('loss')\n",
    "plt.xlabel('epoch')\n",
    "plt.legend(['train', 'dev'], loc='upper left')\n",
    "plt.show()"
   ]
  },
  {
   "cell_type": "code",
   "execution_count": 16,
   "metadata": {},
   "outputs": [
    {
     "name": "stdout",
     "output_type": "stream",
     "text": [
      "Lowest loss of dev set occurs at epoch of 19\n",
      "32/32 [==============================] - 2s 75ms/step\n",
      "RMS error of training set of the best fitting: 0.21721358245555308\n",
      "RMS error of dev set of the best fitting: 0.1686523963208053\n"
     ]
    }
   ],
   "source": [
    "# Determining the best epoch.\n",
    "min_epoch = np.argmin(rms_dev_all)\n",
    "print('Lowest loss of dev set occurs at epoch of', min_epoch)\n",
    "\n",
    "# Loading the corresponding model.\n",
    "model.load_weights(\"./saved_weights/weights-019epochs-0.093loss-0.029val_loss.h5\")\n",
    "\n",
    "# Evaluating training set without dropout layer.\n",
    "ms_train_wo_dp_best = model.evaluate(x=train_set_x, y=train_set_y, batch_size=train_set_x.shape[0])\n",
    "rms_train_wo_dp_best = np.sqrt(ms_train_wo_dp_best)\n",
    "\n",
    "print('RMS error of training set of the best fitting:', rms_train_wo_dp_best)\n",
    "print('RMS error of dev set of the best fitting:', rms_dev_all[min_epoch])"
   ]
  },
  {
   "cell_type": "markdown",
   "metadata": {},
   "source": [
    "## Predicting"
   ]
  },
  {
   "cell_type": "code",
   "execution_count": 17,
   "metadata": {},
   "outputs": [
    {
     "name": "stdout",
     "output_type": "stream",
     "text": [
      "The prediction of file 10_155127.xls is [0.52281076]\n",
      "The prediction of file 1_10450.xls is [0.5203605]\n",
      "The prediction of file 2_143535.xls is [0.5211037]\n",
      "The prediction of file 3_17837.xls is [0.5201449]\n",
      "The prediction of file 4_175644.xls is [0.5200729]\n",
      "The prediction of file 5_17747.xls is [0.52208704]\n",
      "The prediction of file 6_8419.xls is [0.5212268]\n",
      "The prediction of file 7_161338.xls is [0.51959026]\n",
      "The prediction of file 8_181928.xls is [0.51985836]\n",
      "The prediction of file 9_84549.xls is [0.5204056]\n"
     ]
    }
   ],
   "source": [
    "prediction = model.predict(x=test_set_x)\n",
    "\n",
    "i = 0\n",
    "for file in files_test:\n",
    "    print('The prediction of file', file, 'is', prediction[i])\n",
    "    i += 1"
   ]
  }
 ],
 "metadata": {
  "kernelspec": {
   "display_name": "Python 3",
   "language": "python",
   "name": "python3"
  },
  "language_info": {
   "codemirror_mode": {
    "name": "ipython",
    "version": 3
   },
   "file_extension": ".py",
   "mimetype": "text/x-python",
   "name": "python",
   "nbconvert_exporter": "python",
   "pygments_lexer": "ipython3",
   "version": "3.6.5"
  }
 },
 "nbformat": 4,
 "nbformat_minor": 2
}
