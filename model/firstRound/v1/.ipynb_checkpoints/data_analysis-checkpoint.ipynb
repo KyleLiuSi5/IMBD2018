{
 "cells": [
  {
   "cell_type": "markdown",
   "metadata": {},
   "source": [
    "## Loading data"
   ]
  },
  {
   "cell_type": "code",
   "execution_count": 1,
   "metadata": {},
   "outputs": [],
   "source": [
    "# Loading the IPython extention autoreload.\n",
    "%load_ext autoreload"
   ]
  },
  {
   "cell_type": "code",
   "execution_count": 4,
   "metadata": {},
   "outputs": [],
   "source": [
    "# Reloading edited module without restarting the kernel.\n",
    "# Referring to https://support.enthought.com/hc/en-us/articles/204469240-Jupyter-IPython-After-editing-a-module-changes-are-not-effective-without-kernel-restart\n",
    "%autoreload\n",
    "\n",
    "from utils import *\n",
    "\n",
    "path_of_data = '../../data/first-round/train_and_dev_set'\n",
    "training_set_x, training_set_y, dev_set_x, dev_set_y = load_data(path_of_data, ratio_of_training_data=0.8)"
   ]
  },
  {
   "cell_type": "code",
   "execution_count": 5,
   "metadata": {},
   "outputs": [
    {
     "name": "stdout",
     "output_type": "stream",
     "text": [
      "train x: 32 train y 32 dev x: 8 dev y: 8\n"
     ]
    }
   ],
   "source": [
    "print('train x:', len(training_set_x), 'train y', len(training_set_y), 'dev x:', len(dev_set_x), 'dev y:', len(dev_set_y))"
   ]
  },
  {
   "cell_type": "markdown",
   "metadata": {},
   "source": [
    "## Loading and compiling model"
   ]
  },
  {
   "cell_type": "code",
   "execution_count": 30,
   "metadata": {},
   "outputs": [
    {
     "name": "stdout",
     "output_type": "stream",
     "text": [
      "_________________________________________________________________\n",
      "Layer (type)                 Output Shape              Param #   \n",
      "=================================================================\n",
      "input_5 (InputLayer)         (None, 7500, 4, 1)        0         \n",
      "_________________________________________________________________\n",
      "batch_normalization_21 (Batc (None, 7500, 4, 1)        4         \n",
      "_________________________________________________________________\n",
      "conv2d_5 (Conv2D)            (None, 7497, 1, 1)        17        \n",
      "_________________________________________________________________\n",
      "flatten_5 (Flatten)          (None, 7497)              0         \n",
      "_________________________________________________________________\n",
      "batch_normalization_22 (Batc (None, 7497)              29988     \n",
      "_________________________________________________________________\n",
      "dense_17 (Dense)             (None, 2048)              15355904  \n",
      "_________________________________________________________________\n",
      "batch_normalization_23 (Batc (None, 2048)              8192      \n",
      "_________________________________________________________________\n",
      "dense_18 (Dense)             (None, 512)               1049088   \n",
      "_________________________________________________________________\n",
      "batch_normalization_24 (Batc (None, 512)               2048      \n",
      "_________________________________________________________________\n",
      "dense_19 (Dense)             (None, 128)               65664     \n",
      "_________________________________________________________________\n",
      "batch_normalization_25 (Batc (None, 128)               512       \n",
      "_________________________________________________________________\n",
      "dense_20 (Dense)             (None, 1)                 129       \n",
      "=================================================================\n",
      "Total params: 16,511,546\n",
      "Trainable params: 16,491,174\n",
      "Non-trainable params: 20,372\n",
      "_________________________________________________________________\n"
     ]
    }
   ],
   "source": [
    "%autoreload\n",
    "\n",
    "from model import *\n",
    "\n",
    "# Creating model.\n",
    "model = create_model(input_shape=(training_set_x.shape[1:]), summary=True)\n",
    "\n",
    "# Instantiating the optimizer.\n",
    "opt = Adam(lr=0.0001, beta_1=0.9, beta_2=0.999, decay=0.01)\n",
    "\n",
    "# Determining the loss and metric, and compiling the model.\n",
    "model.compile(loss='mean_squared_error', optimizer=opt)"
   ]
  },
  {
   "cell_type": "markdown",
   "metadata": {},
   "source": [
    "## Fitting"
   ]
  },
  {
   "cell_type": "code",
   "execution_count": 28,
   "metadata": {
    "scrolled": true
   },
   "outputs": [
    {
     "name": "stdout",
     "output_type": "stream",
     "text": [
      "Epoch 1/30\n",
      "32/32 [==============================] - 4s 118ms/step - loss: 0.5083 - acc: 0.0000e+00\n",
      "Epoch 2/30\n",
      "32/32 [==============================] - 1s 17ms/step - loss: 1.9274 - acc: 0.0000e+00\n",
      "Epoch 3/30\n",
      "32/32 [==============================] - 1s 17ms/step - loss: 0.4617 - acc: 0.0000e+00\n",
      "Epoch 4/30\n",
      "32/32 [==============================] - 1s 17ms/step - loss: 0.4904 - acc: 0.0000e+00\n",
      "Epoch 5/30\n",
      "32/32 [==============================] - 1s 17ms/step - loss: 0.2875 - acc: 0.0000e+00\n",
      "Epoch 6/30\n",
      "32/32 [==============================] - 1s 17ms/step - loss: 0.1954 - acc: 0.0000e+00\n",
      "Epoch 7/30\n",
      "32/32 [==============================] - 1s 19ms/step - loss: 0.1618 - acc: 0.0000e+00\n",
      "Epoch 8/30\n",
      "32/32 [==============================] - 1s 18ms/step - loss: 0.1734 - acc: 0.0000e+00\n",
      "Epoch 9/30\n",
      "32/32 [==============================] - 1s 17ms/step - loss: 0.1673 - acc: 0.0000e+00\n",
      "Epoch 10/30\n",
      "32/32 [==============================] - 1s 18ms/step - loss: 0.1514 - acc: 0.0000e+00\n",
      "Epoch 11/30\n",
      "32/32 [==============================] - 1s 19ms/step - loss: 0.1445 - acc: 0.0000e+00\n",
      "Epoch 12/30\n",
      "32/32 [==============================] - 1s 17ms/step - loss: 0.1422 - acc: 0.0000e+00\n",
      "Epoch 13/30\n",
      "32/32 [==============================] - 1s 18ms/step - loss: 0.1382 - acc: 0.0000e+00\n",
      "Epoch 14/30\n",
      "32/32 [==============================] - 1s 18ms/step - loss: 0.1329 - acc: 0.0000e+00\n",
      "Epoch 15/30\n",
      "32/32 [==============================] - 1s 18ms/step - loss: 0.1281 - acc: 0.0000e+00\n",
      "Epoch 16/30\n",
      "32/32 [==============================] - 1s 17ms/step - loss: 0.1249 - acc: 0.0000e+00\n",
      "Epoch 17/30\n",
      "32/32 [==============================] - 1s 18ms/step - loss: 0.1240 - acc: 0.0000e+00\n",
      "Epoch 18/30\n",
      "32/32 [==============================] - 1s 18ms/step - loss: 0.1250 - acc: 0.0000e+00\n",
      "Epoch 19/30\n",
      "32/32 [==============================] - 1s 17ms/step - loss: 0.1265 - acc: 0.0000e+00\n",
      "Epoch 20/30\n",
      "32/32 [==============================] - 1s 18ms/step - loss: 0.1260 - acc: 0.0000e+00\n",
      "Epoch 21/30\n",
      "32/32 [==============================] - 1s 17ms/step - loss: 0.1228 - acc: 0.0000e+00\n",
      "Epoch 22/30\n",
      "32/32 [==============================] - 1s 18ms/step - loss: 0.1193 - acc: 0.0000e+00\n",
      "Epoch 23/30\n",
      "32/32 [==============================] - 1s 21ms/step - loss: 0.1183 - acc: 0.0000e+00\n",
      "Epoch 24/30\n",
      "32/32 [==============================] - 1s 19ms/step - loss: 0.1195 - acc: 0.0000e+00\n",
      "Epoch 25/30\n",
      "32/32 [==============================] - 1s 19ms/step - loss: 0.1202 - acc: 0.0000e+00\n",
      "Epoch 26/30\n",
      "32/32 [==============================] - 1s 18ms/step - loss: 0.1194 - acc: 0.0000e+00\n",
      "Epoch 27/30\n",
      "32/32 [==============================] - 1s 18ms/step - loss: 0.1184 - acc: 0.0000e+00\n",
      "Epoch 28/30\n",
      "32/32 [==============================] - 1s 18ms/step - loss: 0.1180 - acc: 0.0000e+00\n",
      "Epoch 29/30\n",
      "32/32 [==============================] - 1s 21ms/step - loss: 0.1181 - acc: 0.0000e+00\n",
      "Epoch 30/30\n",
      "32/32 [==============================] - 1s 19ms/step - loss: 0.1179 - acc: 0.0000e+00\n"
     ]
    }
   ],
   "source": [
    "history_fit = model.fit(training_set_x, training_set_y, batch_size=training_set_x.shape[0], epochs=30)"
   ]
  },
  {
   "cell_type": "code",
   "execution_count": 12,
   "metadata": {},
   "outputs": [
    {
     "name": "stdout",
     "output_type": "stream",
     "text": [
      "RMS error of fitting: 0.3025565701979021\n",
      "<_io.TextIOWrapper name='./trainHistoryDict' mode='r' encoding='cp1252'>\n"
     ]
    }
   ],
   "source": [
    "# Calculating and printing root mean square error of fitting\n",
    "rms_error_fit = np.sqrt(history_fit.history['loss'][-1])\n",
    "print('RMS error of fitting:', rms_error_fit)"
   ]
  },
  {
   "cell_type": "code",
   "execution_count": 35,
   "metadata": {},
   "outputs": [],
   "source": [
    "# Saving history\n",
    "with open('./trainHistoryDict', 'wb') as file_pi:\n",
    "    pickle.dump(history_fit.history, file_pi)"
   ]
  },
  {
   "cell_type": "markdown",
   "metadata": {},
   "source": [
    "## (Optional) plotting the losses."
   ]
  },
  {
   "cell_type": "code",
   "execution_count": 34,
   "metadata": {},
   "outputs": [
    {
     "name": "stdout",
     "output_type": "stream",
     "text": [
      "[0.5083083510398865, 1.9274067878723145, 0.46169042587280273, 0.4903954267501831, 0.28751736879348755, 0.19535468518733978, 0.16177552938461304, 0.17336249351501465, 0.16725806891918182, 0.15141171216964722, 0.14447548985481262, 0.14220845699310303, 0.13816779851913452, 0.1329321414232254, 0.1281134933233261, 0.12487325072288513, 0.12403993308544159, 0.12502922117710114, 0.126485675573349, 0.1259923279285431, 0.12281295657157898, 0.11925631016492844, 0.11828248202800751, 0.11948531866073608, 0.12017589807510376, 0.11939158290624619, 0.11837010085582733, 0.11803534626960754, 0.1180541068315506, 0.11792431771755219]\n"
     ]
    }
   ],
   "source": [
    "with open('./trainHistoryDict', 'rb') as file_pi:\n",
    "    hitory_pickle = pickle.load(file_pi)\n",
    "    \n",
    "print(hitory_pickle['loss'])"
   ]
  },
  {
   "cell_type": "markdown",
   "metadata": {},
   "source": [
    "## Evaluating"
   ]
  },
  {
   "cell_type": "code",
   "execution_count": null,
   "metadata": {},
   "outputs": [],
   "source": [
    "ms_error_eva = model.evaluate(x=dev_set_x, y=dev_set_y, batch_size=dev_set_x.shape[0])"
   ]
  },
  {
   "cell_type": "code",
   "execution_count": null,
   "metadata": {},
   "outputs": [],
   "source": [
    "# Calculating and printing root mean square error of evaluating\n",
    "rms_error_eva = np.sqrt(ms_error_eva)\n",
    "print('RMS error of evaluation:', rms_error_eva)"
   ]
  }
 ],
 "metadata": {
  "kernelspec": {
   "display_name": "Python 3",
   "language": "python",
   "name": "python3"
  },
  "language_info": {
   "codemirror_mode": {
    "name": "ipython",
    "version": 3
   },
   "file_extension": ".py",
   "mimetype": "text/x-python",
   "name": "python",
   "nbconvert_exporter": "python",
   "pygments_lexer": "ipython3",
   "version": "3.6.5"
  }
 },
 "nbformat": 4,
 "nbformat_minor": 2
}
